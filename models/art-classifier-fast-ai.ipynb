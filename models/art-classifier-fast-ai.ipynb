{
 "cells": [
  {
   "cell_type": "markdown",
   "id": "aced26d3",
   "metadata": {},
   "source": [
    "# Art Classifer - Fast.ai implementation\n",
    "\n",
    "#### Description\n",
    "\n",
    "The following script fine-tunes a deep convolutional net (specifically, ResNet 34) to classify whether an input image came from two sets of art images that I defined. The first set, \"abstract\" consists of a set of images of Abstract Minimalist art by Frank Stella, Ellsworth Kelly, Sol LeWitt, Piet Mondrian, Sophie Taeuber-Arp, Josef Albers, Kazimir Malevich, and Hilma af Klint. The second set, \"surreal\" consists of a set of images of Surrealist art (primarily figurative) by Yves Tanguy, Salvador Dali, Rene Magritte, Max Ernst, Giorgio de Chirico, and Remedios Varo.\n",
    "\n",
    "To do so, I scraped about 1000 images of works (~500 abstract and ~500 surreal), resized them to size 224x224 .jpg's, and placed them in labeled folders. Here, I simply use them to build a data loader for `fastai`, then use its `vision_learner` to fine-tune the pretrained ResNet 34 model. This uses an 80-20 split for the training and validation sets. I then \"test\" the model on 9 exemplary images. 3 were top results from searching \"abstract art\", 3 from searching \"surreal art,\" and the other 3 were chosen to be intentionally ambiguous.\n",
    "\n",
    "#### Requirements\n",
    "\n",
    "- `numpy`\n",
    "- `matplotlib`\n",
    "- `pandas`\n",
    "- `fastai`"
   ]
  },
  {
   "cell_type": "code",
   "execution_count": null,
   "id": "63b5f4f1",
   "metadata": {},
   "outputs": [],
   "source": [
    "import os\n",
    "from pathlib import Path\n",
    "\n",
    "import numpy as np\n",
    "import matplotlib.pyplot as plt\n",
    "import pandas as pd\n",
    "\n",
    "from fastai.vision.all import *"
   ]
  },
  {
   "cell_type": "code",
   "execution_count": null,
   "id": "0ef10744",
   "metadata": {},
   "outputs": [],
   "source": [
    "IMAGE_SIDELENGTH = 224"
   ]
  },
  {
   "cell_type": "code",
   "execution_count": null,
   "id": "4c5be0cd",
   "metadata": {},
   "outputs": [],
   "source": [
    "basePath = Path('/home/mikejseay/Data/Art/')\n",
    "\n",
    "artClasses = ('abstract', 'surreal')\n",
    "\n",
    "paths = []\n",
    "labels = []\n",
    "\n",
    "for artClass in artClasses:\n",
    "    classPath = basePath/artClass\n",
    "    subDirs = glob.glob(str(classPath) + '/*')\n",
    "    for subDir in subDirs:\n",
    "        imagePaths = glob.glob(subDir + '/*.jpg')\n",
    "        for imagePath in imagePaths:\n",
    "            paths.append(imagePath)\n",
    "            labels.append(artClass)\n",
    "\n",
    "imageFileDF = pd.DataFrame.from_dict({'path': paths, 'label': labels})\n",
    "dls = ImageDataLoaders.from_df(imageFileDF, path='/', item_tfms=Resize(IMAGE_SIDELENGTH))"
   ]
  },
  {
   "cell_type": "code",
   "execution_count": null,
   "id": "a2b08ad3",
   "metadata": {
    "scrolled": true
   },
   "outputs": [],
   "source": [
    "learn = vision_learner(dls, resnet34, metrics=error_rate)\n",
    "learn.fine_tune(1)"
   ]
  },
  {
   "cell_type": "code",
   "execution_count": null,
   "id": "3475f6e3",
   "metadata": {},
   "outputs": [],
   "source": [
    "basePath = Path('/home/mikejseay/Data/TestArt/')\n",
    "\n",
    "imagePaths = glob.glob(str(basePath) + '/*.jpg')\n",
    "\n",
    "f, ax = plt.subplots(3, 3, figsize=(16, 12))\n",
    "ax = ax.ravel()\n",
    "\n",
    "for imageInd, imagePath in enumerate(imagePaths):\n",
    "    img = PILImage.create(imagePath)\n",
    "    predicted_class, _, probs = learn.predict(img)\n",
    "    displayProbs = np.max(probs.cpu().detach().numpy())\n",
    "    descriptString = '{} ({:.2%})'.format(predicted_class, displayProbs)\n",
    "    ax[imageInd].imshow(np.asarray(img))\n",
    "    ax[imageInd].get_xaxis().set_visible(False)\n",
    "    ax[imageInd].get_yaxis().set_visible(False)\n",
    "    ax[imageInd].set(title=descriptString)"
   ]
  }
 ],
 "metadata": {
  "kernelspec": {
   "display_name": "Python 3 (ipykernel)",
   "language": "python",
   "name": "python3"
  },
  "language_info": {
   "codemirror_mode": {
    "name": "ipython",
    "version": 3
   },
   "file_extension": ".py",
   "mimetype": "text/x-python",
   "name": "python",
   "nbconvert_exporter": "python",
   "pygments_lexer": "ipython3",
   "version": "3.10.4"
  }
 },
 "nbformat": 4,
 "nbformat_minor": 5
}
